{
 "cells": [
  {
   "cell_type": "markdown",
   "id": "f9be25a8",
   "metadata": {},
   "source": [
    "# Session 9: Pandas\n",
    "\n",
    "Welcome to the first hour of the session on Pandas Series. In this section, we will cover the basics of Pandas and an introduction to Pandas Series."
   ]
  },
  {
   "cell_type": "markdown",
   "id": "af3aef11",
   "metadata": {},
   "source": [
    "## What is Pandas?\n",
    "\n",
    "Pandas is a powerful Python library used for data manipulation and analysis. It provides data structures like **Series** and **DataFrame** to handle labeled and relational data efficiently. Pandas is widely used in data science and machine learning workflows.\n",
    "\n",
    "**Key Features of Pandas:**\n",
    "- Fast and efficient data manipulation\n",
    "- Integrated handling of missing data\n",
    "- Alignment of data for operations\n",
    "- Data visualization support\n"
   ]
  },
  {
   "cell_type": "code",
   "execution_count": 2,
   "id": "6b4c5db8",
   "metadata": {},
   "outputs": [
    {
     "name": "stdout",
     "output_type": "stream",
     "text": [
      "Pandas version: 2.3.2\n"
     ]
    }
   ],
   "source": [
    "# Install and import Pandas\n",
    "import pandas as pd\n",
    "print('Pandas version:', pd.__version__)"
   ]
  },
  {
   "cell_type": "markdown",
   "id": "214f112c",
   "metadata": {},
   "source": [
    "## Introduction to Pandas Series\n",
    "\n",
    "A **Pandas Series** is a one-dimensional labeled array capable of holding any data type. It is similar to a column in a spreadsheet but more powerful due to its labels (index).\n",
    "\n",
    "**Key Characteristics:**\n",
    "- Homogeneous data (all elements of the same type).\n",
    "- Labeled index (row labels).\n",
    "- Supports various data types (integers, floats, strings, etc.).\n",
    "\n",
    "**Creating a Series:**"
   ]
  },
  {
   "cell_type": "code",
   "execution_count": 3,
   "id": "ff664a12",
   "metadata": {},
   "outputs": [
    {
     "name": "stdout",
     "output_type": "stream",
     "text": [
      "0    10\n",
      "1    20\n",
      "2    30\n",
      "3    40\n",
      "4    50\n",
      "dtype: int64\n"
     ]
    }
   ],
   "source": [
    "# Creating a Pandas Series\n",
    "import pandas as pd\n",
    "\n",
    "# Creating a Series from a list\n",
    "data = [10, 20, 30, 40, 50]\n",
    "series = pd.Series(data)\n",
    "print(series)"
   ]
  },
  {
   "cell_type": "markdown",
   "id": "e33a5d3c",
   "metadata": {},
   "source": [
    "### Attributes of a Series\n",
    "\n",
    "- **index**: Returns the index (row labels).\n",
    "- **values**: Returns the data values.\n",
    "- **dtype**: Returns the data type of elements in the Series.\n"
   ]
  },
  {
   "cell_type": "code",
   "execution_count": 4,
   "id": "a4035606",
   "metadata": {},
   "outputs": [
    {
     "name": "stdout",
     "output_type": "stream",
     "text": [
      "Index: RangeIndex(start=0, stop=5, step=1)\n",
      "Values: [10 20 30 40 50]\n",
      "Data Type: int64\n"
     ]
    }
   ],
   "source": [
    "# Exploring Series attributes\n",
    "print('Index:', series.index)\n",
    "print('Values:', series.values)\n",
    "print('Data Type:', series.dtype)"
   ]
  },
  {
   "cell_type": "markdown",
   "id": "7afead51",
   "metadata": {},
   "source": [
    "### Creating a Series with Custom Indices\n",
    "\n",
    "You can assign custom labels to the indices when creating a Series. This makes data access easier and more intuitive."
   ]
  },
  {
   "cell_type": "code",
   "execution_count": 7,
   "id": "c9475c4c",
   "metadata": {},
   "outputs": [
    {
     "name": "stdout",
     "output_type": "stream",
     "text": [
      "a    100\n",
      "b    200\n",
      "c    300\n",
      "dtype: int64\n"
     ]
    }
   ],
   "source": [
    "# Creating a Series with custom indices\n",
    "data = [100, 200, 300]\n",
    "labels = ['a', 'b', 'c']\n",
    "custom_series = pd.Series(data, index=labels)\n",
    "print(custom_series)"
   ]
  },
  {
   "cell_type": "markdown",
   "id": "109b7507",
   "metadata": {},
   "source": [
    "## Accessing Elements in a Series\n",
    "\n",
    "You can access elements in a Series using:\n",
    "- **Index labels**: Use the custom or default index.\n",
    "- **Integer indices**: Similar to lists in Python.\n",
    "\n",
    "**Examples:**"
   ]
  },
  {
   "cell_type": "code",
   "execution_count": 8,
   "id": "214738f7",
   "metadata": {},
   "outputs": [
    {
     "name": "stdout",
     "output_type": "stream",
     "text": [
      "Element with index a: 100\n",
      "Element at position 1: 200\n"
     ]
    },
    {
     "name": "stderr",
     "output_type": "stream",
     "text": [
      "C:\\Users\\Shaiful\\AppData\\Local\\Temp\\ipykernel_7276\\1212875187.py:3: FutureWarning: Series.__getitem__ treating keys as positions is deprecated. In a future version, integer keys will always be treated as labels (consistent with DataFrame behavior). To access a value by position, use `ser.iloc[pos]`\n",
      "  print('Element at position 1:', custom_series[1])\n"
     ]
    }
   ],
   "source": [
    "# Accessing elements\n",
    "print('Element with index a:', custom_series['a'])\n",
    "print('Element at position 1:', custom_series[1])"
   ]
  },
  {
   "cell_type": "markdown",
   "id": "0d7dd8d5",
   "metadata": {},
   "source": [
    "## Basic Operations on Series\n",
    "\n",
    "Pandas Series supports various operations:\n",
    "- Element-wise operations (e.g., addition, multiplication).\n",
    "- Applying NumPy functions.\n",
    "- Filtering based on conditions."
   ]
  },
  {
   "cell_type": "code",
   "execution_count": 9,
   "id": "b6682874",
   "metadata": {},
   "outputs": [
    {
     "name": "stdout",
     "output_type": "stream",
     "text": [
      "Original Series:\n",
      " 0    1\n",
      "1    2\n",
      "2    3\n",
      "3    4\n",
      "4    5\n",
      "dtype: int64\n",
      "\n",
      "Series + 10:\n",
      " 0    11\n",
      "1    12\n",
      "2    13\n",
      "3    14\n",
      "4    15\n",
      "dtype: int64\n",
      "\n",
      "Series * 2:\n",
      " 0     2\n",
      "1     4\n",
      "2     6\n",
      "3     8\n",
      "4    10\n",
      "dtype: int64\n",
      "\n",
      "Square root:\n",
      " 0    1.000000\n",
      "1    1.414214\n",
      "2    1.732051\n",
      "3    2.000000\n",
      "4    2.236068\n",
      "dtype: float64\n"
     ]
    }
   ],
   "source": [
    "import numpy as np\n",
    "# Basic operations on Series\n",
    "series = pd.Series([1, 2, 3, 4, 5])\n",
    "print('Original Series:\\n', series)\n",
    "\n",
    "# Element-wise operations\n",
    "print('\\nSeries + 10:\\n', series + 10)\n",
    "print('\\nSeries * 2:\\n', series * 2)\n",
    "\n",
    "# Applying a NumPy function\n",
    "print('\\nSquare root:\\n', np.sqrt(series))"
   ]
  },
  {
   "cell_type": "markdown",
   "id": "a4f1096e",
   "metadata": {},
   "source": [
    "## Exercise\n",
    "\n",
    "1. Create a Pandas Series from a dictionary where keys are student names and values are their scores.\n",
    "2. Find the mean score.\n",
    "3. Access the score of a specific student using their name as the index.\n",
    "4. Multiply all scores by 1.1 to add a 10% bonus."
   ]
  },
  {
   "cell_type": "markdown",
   "id": "de5522e7",
   "metadata": {},
   "source": [
    "## Series Methods\n",
    "\n",
    "Pandas Series comes with a variety of built-in methods to make data manipulation easier. Here are some commonly used methods:\n",
    "\n",
    "- **`head()`**: Displays the first n rows.\n",
    "- **`tail()`**: Displays the last n rows.\n",
    "- **`describe()`**: Provides summary statistics.\n",
    "- **`value_counts()`**: Counts unique values.\n",
    "- **`sort_values()`**: Sorts the Series.\n",
    "- **`apply()`**: Applies a function to each element in the Series.\n",
    "\n",
    "Let's explore these methods with examples."
   ]
  },
  {
   "cell_type": "code",
   "execution_count": 10,
   "id": "ffa177b7",
   "metadata": {},
   "outputs": [
    {
     "name": "stdout",
     "output_type": "stream",
     "text": [
      "First 3 elements:\n",
      " a    50\n",
      "b    20\n",
      "c    30\n",
      "dtype: int64\n",
      "\n",
      "Last 2 elements:\n",
      " d    40\n",
      "e    10\n",
      "dtype: int64\n",
      "\n",
      "Summary statistics:\n",
      " count     5.000000\n",
      "mean     30.000000\n",
      "std      15.811388\n",
      "min      10.000000\n",
      "25%      20.000000\n",
      "50%      30.000000\n",
      "75%      40.000000\n",
      "max      50.000000\n",
      "dtype: float64\n"
     ]
    }
   ],
   "source": [
    "# Sample Series\n",
    "data = [50, 20, 30, 40, 10]\n",
    "labels = ['a', 'b', 'c', 'd', 'e']\n",
    "series = pd.Series(data, index=labels)\n",
    "\n",
    "# Using Series methods\n",
    "print('First 3 elements:\\n', series.head(3))\n",
    "print('\\nLast 2 elements:\\n', series.tail(2))\n",
    "print('\\nSummary statistics:\\n', series.describe())"
   ]
  },
  {
   "cell_type": "code",
   "execution_count": 11,
   "id": "cfbd46d5",
   "metadata": {},
   "outputs": [
    {
     "name": "stdout",
     "output_type": "stream",
     "text": [
      "Value counts:\n",
      " apple     3\n",
      "banana    2\n",
      "orange    1\n",
      "Name: count, dtype: int64\n",
      "\n",
      "Sorted values:\n",
      " 0     apple\n",
      "2     apple\n",
      "5     apple\n",
      "1    banana\n",
      "4    banana\n",
      "3    orange\n",
      "dtype: object\n"
     ]
    }
   ],
   "source": [
    "# Counting unique values and sorting\n",
    "data = ['apple', 'banana', 'apple', 'orange', 'banana', 'apple']\n",
    "series = pd.Series(data)\n",
    "\n",
    "print('Value counts:\\n', series.value_counts())\n",
    "print('\\nSorted values:\\n', series.sort_values())"
   ]
  },
  {
   "cell_type": "markdown",
   "id": "b4166e2a",
   "metadata": {},
   "source": [
    "### Applying Functions with `apply()`\n",
    "\n",
    "The `apply()` method allows you to apply custom or built-in functions to each element in the Series."
   ]
  },
  {
   "cell_type": "code",
   "execution_count": 12,
   "id": "e25c835c",
   "metadata": {},
   "outputs": [
    {
     "name": "stdout",
     "output_type": "stream",
     "text": [
      "Original Series:\n",
      " 0    1\n",
      "1    2\n",
      "2    3\n",
      "3    4\n",
      "4    5\n",
      "dtype: int64\n",
      "\n",
      "Squared Series:\n",
      " 0     1\n",
      "1     4\n",
      "2     9\n",
      "3    16\n",
      "4    25\n",
      "dtype: int64\n"
     ]
    }
   ],
   "source": [
    "# Using apply() to apply a lambda function\n",
    "series = pd.Series([1, 2, 3, 4, 5])\n",
    "print('Original Series:\\n', series)\n",
    "\n",
    "# Squaring each element\n",
    "squared = series.apply(lambda x: x ** 2)\n",
    "print('\\nSquared Series:\\n', squared)"
   ]
  },
  {
   "cell_type": "markdown",
   "id": "b24b3fcc",
   "metadata": {},
   "source": [
    "## Series with Python Functionalities\n",
    "\n",
    "Pandas Series can be combined with native Python functionalities for tasks such as:\n",
    "- Iterating through elements.\n",
    "- Performing mathematical operations.\n",
    "- Using conditionals.\n",
    "\n",
    "Let's look at some examples:"
   ]
  },
  {
   "cell_type": "code",
   "execution_count": null,
   "id": "bfcc49c6",
   "metadata": {},
   "outputs": [],
   "source": [
    "# Iterating through a Series\n",
    "series = pd.Series([10, 20, 30, 40])\n",
    "for value in series:\n",
    "    print('Value:', value)"
   ]
  },
  {
   "cell_type": "code",
   "execution_count": 13,
   "id": "fe79983b",
   "metadata": {},
   "outputs": [
    {
     "name": "stdout",
     "output_type": "stream",
     "text": [
      "Filtered Series:\n",
      " 2    30\n",
      "3    40\n",
      "dtype: int64\n"
     ]
    }
   ],
   "source": [
    "# Using conditionals\n",
    "series = pd.Series([10, 20, 30, 40])\n",
    "\n",
    "# Elements greater than 20\n",
    "filtered = series[series > 20]\n",
    "print('Filtered Series:\\n', filtered)"
   ]
  },
  {
   "cell_type": "markdown",
   "id": "98afab8c",
   "metadata": {},
   "source": [
    "## Boolean Indexing on Series\n",
    "\n",
    "Boolean indexing allows you to filter data based on conditions. It returns a subset of the Series where the condition is `True`.\n",
    "\n",
    "**Examples of Boolean Indexing:**"
   ]
  },
  {
   "cell_type": "code",
   "execution_count": 14,
   "id": "99af0bc1",
   "metadata": {},
   "outputs": [
    {
     "name": "stdout",
     "output_type": "stream",
     "text": [
      "Values greater than 20:\n",
      " 3    25\n",
      "4    30\n",
      "dtype: int64\n"
     ]
    }
   ],
   "source": [
    "# Boolean indexing example\n",
    "series = pd.Series([10, 15, 20, 25, 30])\n",
    "\n",
    "# Condition: Values greater than 20\n",
    "print('Values greater than 20:\\n', series[series > 20])"
   ]
  },
  {
   "cell_type": "markdown",
   "id": "8198aa51",
   "metadata": {},
   "source": [
    "### Compound Conditions\n",
    "\n",
    "You can combine multiple conditions using logical operators such as:\n",
    "- **`&`**: Logical AND\n",
    "- **`|`**: Logical OR\n",
    "\n",
    "For example:"
   ]
  },
  {
   "cell_type": "code",
   "execution_count": 15,
   "id": "7c90a0e3",
   "metadata": {},
   "outputs": [
    {
     "name": "stdout",
     "output_type": "stream",
     "text": [
      "Filtered values:\n",
      " 1    15\n",
      "2    20\n",
      "3    25\n",
      "dtype: int64\n"
     ]
    }
   ],
   "source": [
    "# Compound condition example\n",
    "series = pd.Series([10, 15, 20, 25, 30])\n",
    "\n",
    "# Condition: Values greater than 10 and less than 30\n",
    "filtered = series[(series > 10) & (series < 30)]\n",
    "print('Filtered values:\\n', filtered)"
   ]
  },
  {
   "cell_type": "markdown",
   "id": "c5f83968",
   "metadata": {},
   "source": [
    "## Exercise\n",
    "\n",
    "1. Create a Series of random integers between 1 and 50 (10 elements).\n",
    "2. Use boolean indexing to find all elements greater than 25.\n",
    "3. Apply a function to subtract 5 from each of these elements.\n",
    "4. Sort the resulting Series in descending order."
   ]
  },
  {
   "cell_type": "code",
   "execution_count": null,
   "id": "2602af24",
   "metadata": {},
   "outputs": [],
   "source": []
  },
  {
   "cell_type": "code",
   "execution_count": null,
   "id": "d37bcb3d",
   "metadata": {},
   "outputs": [],
   "source": []
  },
  {
   "cell_type": "markdown",
   "id": "8af11867",
   "metadata": {},
   "source": [
    "## Introduction to Data Visualization\n",
    "\n",
    "Data visualization is a crucial step in data analysis as it helps to:\n",
    "- Summarize large datasets visually.\n",
    "- Identify trends, patterns, and outliers.\n",
    "- Communicate insights effectively.\n",
    "\n",
    "We'll use two powerful libraries:\n",
    "\n",
    "- **Matplotlib**: A versatile library for creating static, animated, and interactive visualizations.\n",
    "- **Seaborn**: Built on top of Matplotlib, it provides a high-level interface for drawing attractive statistical graphics."
   ]
  },
  {
   "cell_type": "markdown",
   "id": "1f0f89e9",
   "metadata": {},
   "source": [
    "## Plotting with Matplotlib\n",
    "\n",
    "Matplotlib provides a simple interface to create visualizations from Pandas Series. Here are some commonly used plot types:\n",
    "\n",
    "- **Line plot**: Useful for continuous data.\n",
    "- **Bar plot**: Ideal for categorical data.\n",
    "- **Histogram**: Displays the distribution of data.\n",
    "\n",
    "Let's explore these plots with examples."
   ]
  },
  {
   "cell_type": "code",
   "execution_count": null,
   "id": "a20b238b",
   "metadata": {},
   "outputs": [],
   "source": [
    "import pandas as pd\n",
    "import matplotlib.pyplot as plt\n",
    "\n",
    "# Sample Series\n",
    "data = [10, 20, 15, 30, 25]\n",
    "labels = ['A', 'B', 'C', 'D', 'E']\n",
    "series = pd.Series(data, index=labels)\n",
    "\n",
    "# Line plot\n",
    "plt.figure(figsize=(8, 4))\n",
    "series.plot(kind='line', title='Line Plot')\n",
    "plt.xlabel('Category')\n",
    "plt.ylabel('Value')\n",
    "plt.show()"
   ]
  },
  {
   "cell_type": "code",
   "execution_count": null,
   "id": "fe3b1a83",
   "metadata": {},
   "outputs": [],
   "source": [
    "# Bar plot\n",
    "plt.figure(figsize=(8, 4))\n",
    "series.plot(kind='bar', color='skyblue', title='Bar Plot')\n",
    "plt.xlabel('Category')\n",
    "plt.ylabel('Value')\n",
    "plt.show()"
   ]
  },
  {
   "cell_type": "code",
   "execution_count": null,
   "id": "0b223c0f",
   "metadata": {},
   "outputs": [],
   "source": [
    "# Histogram\n",
    "plt.figure(figsize=(8, 4))\n",
    "series.plot(kind='hist', bins=5, color='green', title='Histogram')\n",
    "plt.xlabel('Value')\n",
    "plt.show()"
   ]
  },
  {
   "cell_type": "markdown",
   "id": "974e240f",
   "metadata": {},
   "source": [
    "### Enhancing Visualizations\n",
    "\n",
    "You can customize Matplotlib plots by adding features like:\n",
    "- Titles and labels\n",
    "- Grid lines\n",
    "- Annotations\n",
    "\n",
    "Example:"
   ]
  },
  {
   "cell_type": "code",
   "execution_count": null,
   "id": "8cde09f5",
   "metadata": {},
   "outputs": [],
   "source": [
    "plt.figure(figsize=(8, 4))\n",
    "series.plot(kind='line', title='Enhanced Line Plot', color='purple', marker='o')\n",
    "plt.xlabel('Category')\n",
    "plt.ylabel('Value')\n",
    "plt.grid(True)\n",
    "plt.show()"
   ]
  },
  {
   "cell_type": "markdown",
   "id": "6e304ee4",
   "metadata": {},
   "source": [
    "## Plotting with Seaborn\n",
    "\n",
    "Seaborn makes it easy to create informative and attractive visualizations. Commonly used plots for Series include:\n",
    "\n",
    "- **Barplot**\n",
    "- **KDE Plot** (Kernel Density Estimate)\n",
    "\n",
    "Let's explore these plots."
   ]
  },
  {
   "cell_type": "code",
   "execution_count": null,
   "id": "d1d84f48",
   "metadata": {},
   "outputs": [],
   "source": [
    "import seaborn as sns\n",
    "\n",
    "# Barplot using Seaborn\n",
    "sns.barplot(x=series.index, y=series.values, palette='coolwarm')\n",
    "plt.title('Seaborn Barplot')\n",
    "plt.xlabel('Category')\n",
    "plt.ylabel('Value')\n",
    "plt.show()"
   ]
  },
  {
   "cell_type": "code",
   "execution_count": null,
   "id": "d82cb532",
   "metadata": {},
   "outputs": [],
   "source": [
    "# KDE Plot\n",
    "sns.kdeplot(series, shade=True, color='orange')\n",
    "plt.title('KDE Plot')\n",
    "plt.xlabel('Value')\n",
    "plt.show()"
   ]
  },
  {
   "cell_type": "markdown",
   "id": "761abd94",
   "metadata": {},
   "source": [
    "## Exercise\n",
    "\n",
    "1. Create a Pandas Series with random data (10 elements).\n",
    "2. Plot the following visualizations:\n",
    "   - Line Plot\n",
    "   - Bar Plot\n",
    "   - KDE Plot\n",
    "3. Enhance at least one of the visualizations by adding labels, titles, and custom colors.\n",
    "4. Save one of the plots as an image file using `plt.savefig()`."
   ]
  },
  {
   "cell_type": "code",
   "execution_count": null,
   "id": "e5e79b37",
   "metadata": {},
   "outputs": [],
   "source": []
  }
 ],
 "metadata": {
  "kernelspec": {
   "display_name": ".venv",
   "language": "python",
   "name": "python3"
  },
  "language_info": {
   "codemirror_mode": {
    "name": "ipython",
    "version": 3
   },
   "file_extension": ".py",
   "mimetype": "text/x-python",
   "name": "python",
   "nbconvert_exporter": "python",
   "pygments_lexer": "ipython3",
   "version": "3.12.1"
  }
 },
 "nbformat": 4,
 "nbformat_minor": 5
}
