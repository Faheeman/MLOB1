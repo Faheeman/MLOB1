{
 "cells": [
  {
   "cell_type": "markdown",
   "metadata": {},
   "source": [
    "# Numpy Basics\n",
    "\n",
    "**By Shaiful Islam**\n",
    "\n",
    "\n"
   ]
  },
  {
   "cell_type": "markdown",
   "metadata": {},
   "source": [
    "Numpy is a library for Python that is used for working with arrays. It provides a fast and efficient way to handle large datasets. If you’re using python for data science, either you have used NumPy or must have heard about it. Most of the statistical analysis which needs datato be stored in memory uses Numpy.\n"
   ]
  },
  {
   "cell_type": "markdown",
   "metadata": {},
   "source": [
    "### Installation \n",
    "\n",
    "```bash\n",
    "pip install numpy\n",
    "```\n",
    "\n"
   ]
  },
  {
   "cell_type": "markdown",
   "metadata": {},
   "source": [
    "### importing numpy\n"
   ]
  },
  {
   "cell_type": "code",
   "execution_count": 1,
   "metadata": {},
   "outputs": [],
   "source": [
    "import numpy as np\n"
   ]
  },
  {
   "cell_type": "markdown",
   "metadata": {},
   "source": [
    "### WHY NUMPY?\n",
    "\n",
    "1. Numpy is faster than Python lists.\n",
    "2. Numpy arrays are more compact than Python lists.\n",
    "3. Numpy uses less memory.\n",
    "4. Numpy is easier to work with.\n"
   ]
  },
  {
   "cell_type": "code",
   "execution_count": 2,
   "metadata": {},
   "outputs": [],
   "source": [
    "## NumPy is meant for creating homogeneous n-dimensional arrays (n = 1..n).\n",
    "## Unlike Python lists, all elements of a NumPy array should be of same type.\n",
    "py_arr = [1, 2, \"Hello\", 3, \"World\"]  # Python list can have mixed types\n",
    "\n",
    "# Create NumPy array with homogeneous type\n",
    "numpy_arr = np.array([1, 2, 3, 4, 5])  # All elements are integers"
   ]
  },
  {
   "cell_type": "code",
   "execution_count": 3,
   "metadata": {},
   "outputs": [
    {
     "ename": "ValueError",
     "evalue": "invalid literal for int() with base 10: 'Hello'",
     "output_type": "error",
     "traceback": [
      "\u001b[31m---------------------------------------------------------------------------\u001b[39m",
      "\u001b[31mValueError\u001b[39m                                Traceback (most recent call last)",
      "\u001b[36mCell\u001b[39m\u001b[36m \u001b[39m\u001b[32mIn[3]\u001b[39m\u001b[32m, line 1\u001b[39m\n\u001b[32m----> \u001b[39m\u001b[32m1\u001b[39m numpy_arr = \u001b[43mnp\u001b[49m\u001b[43m.\u001b[49m\u001b[43marray\u001b[49m\u001b[43m(\u001b[49m\u001b[43m[\u001b[49m\u001b[32;43m1\u001b[39;49m\u001b[43m,\u001b[49m\u001b[32;43m2\u001b[39;49m\u001b[43m,\u001b[49m\u001b[33;43m\"\u001b[39;49m\u001b[33;43mHello\u001b[39;49m\u001b[33;43m\"\u001b[39;49m\u001b[43m,\u001b[49m\u001b[32;43m3\u001b[39;49m\u001b[43m,\u001b[49m\u001b[33;43m\"\u001b[39;49m\u001b[33;43mWorld\u001b[39;49m\u001b[33;43m\"\u001b[39;49m\u001b[43m]\u001b[49m\u001b[43m,\u001b[49m\u001b[43m \u001b[49m\u001b[43mdtype\u001b[49m\u001b[43m=\u001b[49m\u001b[43mnp\u001b[49m\u001b[43m.\u001b[49m\u001b[43mint32\u001b[49m\u001b[43m)\u001b[49m \u001b[38;5;66;03m# Error\u001b[39;00m\n",
      "\u001b[31mValueError\u001b[39m: invalid literal for int() with base 10: 'Hello'"
     ]
    }
   ],
   "source": [
    "numpy_arr = np.array([1,2,\"Hello\",3,\"World\"], dtype=np.int32) # Error"
   ]
  },
  {
   "cell_type": "markdown",
   "metadata": {},
   "source": [
    "Numpy advantages compared to Python lists:\n",
    "1. Uses less memory\n",
    "2. Provides many built-in functions for array operations\n",
    "3. Allows specifying data types for optimization\n",
    "4. Better performance for numerical computations\n"
   ]
  },
  {
   "cell_type": "code",
   "execution_count": 7,
   "metadata": {},
   "outputs": [
    {
     "name": "stdout",
     "output_type": "stream",
     "text": [
      "168\n",
      "12\n"
     ]
    }
   ],
   "source": [
    "import sys\n",
    "\n",
    "# Create Python list\n",
    "py_arr = [1, 2, 3, 4, 5, 6]\n",
    "\n",
    "# Create NumPy array with same values\n",
    "numpy_arr = np.array([1, 2, 3, 4, 5, 6], dtype=np.float16)\n",
    "\n",
    "# Calculate memory usage of Python list\n",
    "sizeof_py_arr = sys.getsizeof(1) * len(py_arr)  # Size = 168\n",
    "\n",
    "# Calculate memory usage of NumPy array  \n",
    "sizeof_numpy_arr = numpy_arr.itemsize * numpy_arr.size  # Size = 48\n",
    "\n",
    "# Print memory usage comparison\n",
    "print(sizeof_py_arr)\n",
    "print(sizeof_numpy_arr)"
   ]
  },
  {
   "cell_type": "code",
   "execution_count": 9,
   "metadata": {},
   "outputs": [
    {
     "name": "stdout",
     "output_type": "stream",
     "text": [
      "12\n"
     ]
    }
   ],
   "source": [
    "import numpy as np\n",
    "\n",
    "py_arr = [1, 2, 3, 4, 5, 6]\n",
    "\n",
    "# Create NumPy array with same values\n",
    "numpy_arr = np.array([1, 2, 3, 4, 5, 6], dtype=np.int16)\n",
    "\n",
    "print(numpy_arr.itemsize * numpy_arr.size)"
   ]
  },
  {
   "cell_type": "markdown",
   "metadata": {},
   "source": [
    "Optimizing Further"
   ]
  },
  {
   "cell_type": "code",
   "execution_count": 10,
   "metadata": {},
   "outputs": [
    {
     "name": "stdout",
     "output_type": "stream",
     "text": [
      "6\n",
      "12\n"
     ]
    }
   ],
   "source": [
    "# For NumPy arrays elements limited to 1 Byte / 8 Bits\n",
    "numpy_arr = np.array([1, 2, 3, 4, 5, 6], dtype=np.int8)\n",
    "sizeof_numpy_arr = numpy_arr.itemsize * numpy_arr.size  # Size = 6\n",
    "print(sizeof_numpy_arr)\n",
    "\n",
    "# For NumPy arrays elements limited to 2 Bytes / 16 Bits\n",
    "numpy_arr = np.array([1, 2, 3, 4, 5, 6], dtype=np.int16)\n",
    "sizeof_numpy_arr = numpy_arr.itemsize * numpy_arr.size  # Size = 12\n",
    "print(sizeof_numpy_arr)"
   ]
  },
  {
   "cell_type": "code",
   "execution_count": 12,
   "metadata": {},
   "outputs": [
    {
     "name": "stdout",
     "output_type": "stream",
     "text": [
      "Python list time: 0.0345 seconds\n",
      "NumPy array time: 0.0030 seconds\n",
      "NumPy is 11.5x faster\n"
     ]
    }
   ],
   "source": [
    "# Let's compare the performance of NumPy arrays vs Python lists\n",
    "import time\n",
    "\n",
    "# Create large Python list and NumPy array\n",
    "size = 1000000\n",
    "py_list = list(range(size))\n",
    "np_array = np.array(range(size))\n",
    "\n",
    "# Time operation on Python list\n",
    "start_time = time.time()\n",
    "py_result = [x * 2 for x in py_list]\n",
    "py_time = time.time() - start_time\n",
    "\n",
    "# Time operation on NumPy array \n",
    "start_time = time.time()\n",
    "np_result = np_array * 2\n",
    "np_time = time.time() - start_time\n",
    "\n",
    "print(f\"Python list time: {py_time:.4f} seconds\")\n",
    "print(f\"NumPy array time: {np_time:.4f} seconds\")\n",
    "print(f\"NumPy is {py_time/np_time:.1f}x faster\")\n"
   ]
  },
  {
   "cell_type": "markdown",
   "metadata": {},
   "source": [
    "### Using numpy to create n-dimentional arrays\n",
    "- An n-dimension array is generally used for creating a matrix or tensors, again mainly for the mathematical calculation purpose.\n",
    "- Compare to python list base n-dimension arrays, NumPy not only saves the memory usage, it provide a significant number of additional benefits which makes it easy to mathematical calculations\n"
   ]
  },
  {
   "cell_type": "markdown",
   "metadata": {},
   "source": [
    "creating a numpy array\n"
   ]
  },
  {
   "cell_type": "code",
   "execution_count": 13,
   "metadata": {},
   "outputs": [
    {
     "name": "stdout",
     "output_type": "stream",
     "text": [
      "[10 12 14 16 20 22]\n"
     ]
    }
   ],
   "source": [
    "ls = [10, 12, 14, 16, 20, 22]\n",
    "ls_array = np.array(ls)\n",
    "print(ls_array)\n"
   ]
  },
  {
   "cell_type": "code",
   "execution_count": 18,
   "metadata": {},
   "outputs": [
    {
     "name": "stdout",
     "output_type": "stream",
     "text": [
      "[[[0. 0. 0.]\n",
      "  [0. 0. 0.]\n",
      "  [0. 0. 0.]]\n",
      "\n",
      " [[0. 0. 0.]\n",
      "  [0. 0. 0.]\n",
      "  [0. 0. 0.]]\n",
      "\n",
      " [[0. 0. 0.]\n",
      "  [0. 0. 0.]\n",
      "  [0. 0. 0.]]]\n"
     ]
    }
   ],
   "source": [
    "array_0 = np.zeros((3, 3,3))\n",
    "print(array_0)"
   ]
  },
  {
   "cell_type": "code",
   "execution_count": 16,
   "metadata": {},
   "outputs": [
    {
     "name": "stdout",
     "output_type": "stream",
     "text": [
      "[[1. 1. 1.]\n",
      " [1. 1. 1.]\n",
      " [1. 1. 1.]\n",
      " [1. 1. 1.]\n",
      " [1. 1. 1.]\n",
      " [1. 1. 1.]]\n"
     ]
    }
   ],
   "source": [
    "\n",
    "array_1 = np.ones((6, 3))\n",
    "print(array_1)"
   ]
  },
  {
   "cell_type": "markdown",
   "metadata": {},
   "source": [
    "How do we know the size of the array?"
   ]
  },
  {
   "cell_type": "code",
   "execution_count": 20,
   "metadata": {},
   "outputs": [
    {
     "name": "stdout",
     "output_type": "stream",
     "text": [
      "(3, 3, 3)\n"
     ]
    }
   ],
   "source": [
    "print(np.shape(array_0))"
   ]
  },
  {
   "cell_type": "markdown",
   "metadata": {},
   "source": [
    "The dimensions of the array can be changed at runtime as long as the multiplicity factor produces the same number of elements.\n",
    "For example, a 2 * 5 matrix can be converted into 5 * 2 and a 1 * 4 into 2 * 2."
   ]
  },
  {
   "cell_type": "code",
   "execution_count": 8,
   "metadata": {},
   "outputs": [
    {
     "name": "stdout",
     "output_type": "stream",
     "text": [
      "[[10 12]\n",
      " [14 16]\n",
      " [20 22]]\n",
      "[[10 12 14]\n",
      " [16 20 22]]\n"
     ]
    }
   ],
   "source": [
    "ls_array = ls_array.reshape((3, 2))\n",
    "print(ls_array)\n",
    "\n",
    "ls_array = ls_array.reshape((2, 3))\n",
    "print(ls_array)"
   ]
  },
  {
   "cell_type": "markdown",
   "metadata": {},
   "source": [
    "**NumPy can also generate a predefined set of number for an array.**\n",
    "\n",
    "The output of this function will always be a single dimension set of numbers. However, we can use reshape on this output to generate dimension of our choice."
   ]
  },
  {
   "cell_type": "code",
   "execution_count": 26,
   "metadata": {},
   "outputs": [
    {
     "name": "stdout",
     "output_type": "stream",
     "text": [
      "[ 0  1  2  3  4  5  6  7  8  9 10 11 12 13 14 15]\n"
     ]
    }
   ],
   "source": [
    "np_nd_arr = np.arange(0, 16)\n",
    "print(np_nd_arr)\n",
    "\n"
   ]
  },
  {
   "cell_type": "code",
   "execution_count": 28,
   "metadata": {},
   "outputs": [
    {
     "name": "stdout",
     "output_type": "stream",
     "text": [
      "[[[[ 0  1]\n",
      "   [ 2  3]]\n",
      "\n",
      "  [[ 4  5]\n",
      "   [ 6  7]]]\n",
      "\n",
      "\n",
      " [[[ 8  9]\n",
      "   [10 11]]\n",
      "\n",
      "  [[12 13]\n",
      "   [14 15]]]]\n"
     ]
    },
    {
     "data": {
      "text/plain": [
       "(2, 2, 2, 2)"
      ]
     },
     "execution_count": 28,
     "metadata": {},
     "output_type": "execute_result"
    }
   ],
   "source": [
    "np_nd_arr = np_nd_arr.reshape((2, 2, 2, 2))\n",
    "print(np_nd_arr)\n",
    "np_nd_arr.shape"
   ]
  },
  {
   "cell_type": "markdown",
   "metadata": {},
   "source": [
    "As reshape(x,y) can convert an array into multi dimensional array, similarly, its possible to create a single dimensional array from any N-D array\n"
   ]
  },
  {
   "cell_type": "code",
   "execution_count": 10,
   "metadata": {},
   "outputs": [
    {
     "name": "stdout",
     "output_type": "stream",
     "text": [
      "[ 0  1  2  3  4  5  6  7  8  9 10 11 12 13 14 15 16 17 18 19 20 21 22 23\n",
      " 24 25 26 27 28 29 30 31 32 33 34 35 36 37 38 39 40 41 42 43 44 45 46 47\n",
      " 48 49 50 51 52 53 54 55 56 57 58 59 60 61 62 63 64 65 66 67 68 69 70 71\n",
      " 72 73 74 75 76 77 78 79 80 81 82 83 84 85 86 87 88 89 90 91 92 93 94 95\n",
      " 96 97 98 99]\n"
     ]
    }
   ],
   "source": [
    "f_arr = np_nd_arr.ravel()\n",
    "print(f_arr)"
   ]
  },
  {
   "cell_type": "markdown",
   "metadata": {},
   "source": [
    "### Slicing an array\n",
    "\n"
   ]
  },
  {
   "cell_type": "code",
   "execution_count": 29,
   "metadata": {},
   "outputs": [
    {
     "name": "stdout",
     "output_type": "stream",
     "text": [
      "(10, 10)\n",
      "[[ 0  1  2  3  4  5  6  7  8  9]\n",
      " [10 11 12 13 14 15 16 17 18 19]\n",
      " [20 21 22 23 24 25 26 27 28 29]\n",
      " [30 31 32 33 34 35 36 37 38 39]\n",
      " [40 41 42 43 44 45 46 47 48 49]\n",
      " [50 51 52 53 54 55 56 57 58 59]\n",
      " [60 61 62 63 64 65 66 67 68 69]\n",
      " [70 71 72 73 74 75 76 77 78 79]\n",
      " [80 81 82 83 84 85 86 87 88 89]\n",
      " [90 91 92 93 94 95 96 97 98 99]]\n",
      "[[33 34 35 36 37 38 39]\n",
      " [43 44 45 46 47 48 49]\n",
      " [53 54 55 56 57 58 59]\n",
      " [63 64 65 66 67 68 69]\n",
      " [73 74 75 76 77 78 79]\n",
      " [83 84 85 86 87 88 89]\n",
      " [93 94 95 96 97 98 99]]\n"
     ]
    }
   ],
   "source": [
    "np_nd_arr = np.arange(0, 100)\n",
    "np_nd_arr = np_nd_arr.reshape((10, 10))\n",
    "print(np_nd_arr.shape)\n",
    "print(np_nd_arr)\n",
    "print(np_nd_arr[3:, 3:])"
   ]
  },
  {
   "cell_type": "markdown",
   "metadata": {},
   "source": [
    "### Mathematical operations on NumPy n-Dimension Arrays\n",
    "\n",
    "- NumPy is not only about efficient storing the data, it also makes it extremely easy to perform mathematical operations on it.\n",
    "\n",
    "- Any actions on n-dimension arrays behaves exactly similar to mathematical operations.\n",
    "\n",
    "- NumPy n-dimensional arrays makes it extremely easy to perform mathematical operations on it.\n",
    "\n"
   ]
  },
  {
   "cell_type": "code",
   "execution_count": null,
   "metadata": {},
   "outputs": [],
   "source": []
  }
 ],
 "metadata": {
  "kernelspec": {
   "display_name": ".venv",
   "language": "python",
   "name": "python3"
  },
  "language_info": {
   "codemirror_mode": {
    "name": "ipython",
    "version": 3
   },
   "file_extension": ".py",
   "mimetype": "text/x-python",
   "name": "python",
   "nbconvert_exporter": "python",
   "pygments_lexer": "ipython3",
   "version": "3.12.1"
  }
 },
 "nbformat": 4,
 "nbformat_minor": 2
}
